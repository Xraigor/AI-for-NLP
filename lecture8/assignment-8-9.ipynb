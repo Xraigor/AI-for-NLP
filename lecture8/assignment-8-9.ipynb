{
 "cells": [
  {
   "cell_type": "markdown",
   "metadata": {},
   "source": [
    "## Key points\n",
    "+ 机器学习的基本概念\n",
    "+ 数据分布、数据预处理\n",
    "+ Linear Regression, Logstic Regression\n",
    "+ Gredient Descent\n",
    "+ 作业练习"
   ]
  },
  {
   "cell_type": "markdown",
   "metadata": {},
   "source": [
    "## 基础概念复习"
   ]
  },
  {
   "cell_type": "markdown",
   "metadata": {},
   "source": [
    "1. 机器学习方法主要用在什么特点的常见下？ "
   ]
  },
  {
   "cell_type": "markdown",
   "metadata": {},
   "source": [
    "Ans:有足够多的已知数据可以去学习其中的潜在规律，或者说潜在的相关性，包括类型相同的聚类方法，与找到与目标相关性的方法。"
   ]
  },
  {
   "cell_type": "markdown",
   "metadata": {},
   "source": [
    "2. 提出 3 个你认为使用了机器学习方法的现实场景."
   ]
  },
  {
   "cell_type": "markdown",
   "metadata": {},
   "source": [
    "Ans:人脸识别，支付宝或者银行机构的交易安全评估，垃圾邮件分类"
   ]
  },
  {
   "cell_type": "markdown",
   "metadata": {},
   "source": [
    "3. 提出 3 个你认为可以使用机器学习但是还没有使用机器学习方法的场景. "
   ]
  },
  {
   "cell_type": "markdown",
   "metadata": {},
   "source": [
    "Ans:1.智能红绿灯，通过识别不同时间段的车流来改变时长。(感觉应该有做试点不过可以大力推广)\n",
    "    2.学生学习管理系统。可以通过各种练习考试的成绩分析薄弱知识点与推荐强化知识学习的方向。(次级方向通过学习大量题库来对题目的考点进行自动提取)\n",
    "    3.新型材料的预测。通过统计各类测试过的，尝试过的新材料的特性，对于新计划的材料特性进行预测并与实验结果比较，帮助决策选择新材料的方向。"
   ]
  },
  {
   "cell_type": "markdown",
   "metadata": {},
   "source": [
    "4. 什么是“模型”？ 为什么说“All models are wrong, but some useful”."
   ]
  },
  {
   "cell_type": "markdown",
   "metadata": {},
   "source": [
    "Ans:模型是对现实世界的抽象。提取对于研究目标有用的属性，忽略次要属性，进行数学物理方法上的抽象研究。\n",
    "    所有模型都有忽略的次要属性，所以肯定在忽略的属性上出现错误。但只要主要属性提取的正确，模型的选择优化正确，对于现实世界的抽象模拟就会很有用。"
   ]
  },
  {
   "cell_type": "markdown",
   "metadata": {},
   "source": [
    "5. Classification 和 Regressionu主要针对什么？ 有什么区别？ "
   ]
  },
  {
   "cell_type": "markdown",
   "metadata": {},
   "source": [
    "Ans:分类问题与回归问题都主要针对新数据的预测。\n",
    "    分类问题通常应用于离散值的数据，例如预测天气，没有相近的概念。最后一层需要softmax函数判断所属类别。\n",
    "    回归问题预测结果是连续的，例如温度与房价等。"
   ]
  },
  {
   "cell_type": "markdown",
   "metadata": {},
   "source": [
    "6. precision， recall，f1, auc 分别是什么意思？ 假设一个城市有 10000 人，有 30 个犯罪分子，警察抓到了 35 个人，其中 20 个是犯罪分子，请问这个警察的 precision, recall, f1,auc 分别是什么？ "
   ]
  },
  {
   "cell_type": "markdown",
   "metadata": {},
   "source": [
    "Ans:precision为查准率预测正例中真实正例的比例。\n",
    "    recall为查全率，为所有真实正例中正例的比例。\n",
    "    F1为查准率与查全率的调和平均。\n",
    "    AUC实际为Area Under Curve，是ROC(Receiver Operating Characteristic)图中，ROC曲线的下方部分。考虑的是样本预测的排序质量，一般用AUC的大小来判断模型的质量。\n",
    "    \n",
    "    tp = 20 fp = 15   p'=35       \n",
    "    fn = 10 tn = 9955 N'=9965\n",
    "    p = 30  n = 9970  Total=10000\n",
    "    tpr = 2/3 fpr = 3/1994 \n",
    "    \n",
    "    以只有(3/1994, 2/3)一个数据点绘制的ROC图计算AUC:\n",
    "    P为4/7，R为2/3，f1为8/13, auc为1 - 2/1994 = 1/997"
   ]
  },
  {
   "cell_type": "markdown",
   "metadata": {},
   "source": [
    "7. 请提出两种场景，第一种场景下，对模型的评估很注重 precision, 第二种很注重 recall. "
   ]
  },
  {
   "cell_type": "markdown",
   "metadata": {},
   "source": [
    "    Ans:precision相反的是误报率FP，注重precision的需求是误报率低。应用场景是例如广告视频投放，我们希望的是广告视频投放的更准确给需要的用户。\n",
    "        recall查全率要求高的场景是避免漏报，应用场景是肿瘤癌症预测，我们更关注是否漏报导致忽略病情耽误治疗。"
   ]
  },
  {
   "cell_type": "markdown",
   "metadata": {},
   "source": [
    "8. 什么是 Overfitting， 什么是 Underfitting?"
   ]
  },
  {
   "cell_type": "markdown",
   "metadata": {},
   "source": [
    "    Ans:Overfitting是过度拟合，即拟合的函数模型过于复杂，使得数据噪声特性以及outline对于模型的影响很大。\n",
    "    Underfitting是欠拟合，即函数模型过于简单，没有反映出数据集的主要特性。"
   ]
  },
  {
   "cell_type": "markdown",
   "metadata": {},
   "source": [
    "9. Lazy-Learning， Lazy在哪里？ "
   ]
  },
  {
   "cell_type": "markdown",
   "metadata": {},
   "source": [
    "    Ans:消极学习不直接处理训练样本给出目标函数，而是将其储存为样例，在需要分析新实例时才会分析其与储存样例的关系。"
   ]
  },
  {
   "cell_type": "markdown",
   "metadata": {},
   "source": [
    "10. Median， Mode， Mean分别是什么？ 有什么意义？ "
   ]
  },
  {
   "cell_type": "markdown",
   "metadata": {},
   "source": [
    "    Ans:Median中位数，是一组数据中间位置上的代表值。\n",
    "    Mode众数，是一组数据分布的峰值，出现次数最多的值（函数密度最大的点）。\n",
    "    Mean平均值，用全部数据计算的集中趋势测度值。"
   ]
  },
  {
   "cell_type": "markdown",
   "metadata": {},
   "source": [
    "11. Outlinear（异常值、离群值）是什么？ 如何定义？ "
   ]
  },
  {
   "cell_type": "markdown",
   "metadata": {},
   "source": [
    "    Ans:异常值是相对远离原有数据统计规律性的观测值。\n",
    "一般指一组测定值中与平均值的偏差超过两倍标准差的测定值。"
   ]
  },
  {
   "cell_type": "markdown",
   "metadata": {},
   "source": [
    "12. Bias 和 Variance 有什么关系？ 他们之间为什么是一种 tradeoff 的？ "
   ]
  },
  {
   "cell_type": "markdown",
   "metadata": {},
   "source": [
    "    Ans:Bias与Variance是一种权衡关系，Bias过低会导致Variance高，反之亦然。因为Bias产生的原因是模型过于简单，而Variance产生的原因是模型过于复杂，都取决于模型的复杂度，因此是一种tradeoff的关系。"
   ]
  },
  {
   "cell_type": "markdown",
   "metadata": {},
   "source": [
    "13. Train， Validation，Test 数据集之间是什么关系？ 为什么要这么划分？ "
   ]
  },
  {
   "cell_type": "markdown",
   "metadata": {},
   "source": [
    "    Ans:Training set用于训练建立初始模型\n",
    "        Validation set用于对Traning set的模型进行调整优化\n",
    "        以上两者为Cross validation交叉验证，是对同一对象数据进行的\n",
    "        validation set还可以对多个训练模型进行比较\n",
    "        Test set不同于Cross validation，后者模型自身知道输入与输出，在validation上的Error本身也有Bias\n",
    "        Test set只评估模型表现，不调整优化。\n",
    "        为了使模型具有一般适用性而将数据集分成这么几类。"
   ]
  },
  {
   "cell_type": "markdown",
   "metadata": {},
   "source": [
    "14. Supervised Learning 的 Supervised 体现在什么地方？ "
   ]
  },
  {
   "cell_type": "markdown",
   "metadata": {},
   "source": [
    "    Ans:Supervised体现在Loss Function的定义，规定了Learning Algorithm的优化方向，因此是Supervised。"
   ]
  },
  {
   "cell_type": "markdown",
   "metadata": {},
   "source": [
    "15. Linear Regression 中，什么是“线性关系”？ "
   ]
  },
  {
   "cell_type": "markdown",
   "metadata": {},
   "source": [
    "    Ans:目标变量y与变量参数x是一次方的方程关系。"
   ]
  },
  {
   "cell_type": "markdown",
   "metadata": {},
   "source": [
    "16. Linear Regression中，Loss 函数怎么定义的？ 为什么要写成这样？ 什么是凸函数？ 优化中有什么意义？ "
   ]
  },
  {
   "cell_type": "markdown",
   "metadata": {},
   "source": [
    "    Ans:线性回归中的Loss Function为均方误差MSE。\n",
    "    线性回归的计算用到了最小二乘法，所以线性回归方程的损失函数形式为最小二乘损失函数的形式。\n",
    "    二次型函数开口向上（二阶导数大于0）为凸函数，这样可以用梯度下降算法找到loss function的最小值。"
   ]
  },
  {
   "cell_type": "markdown",
   "metadata": {},
   "source": [
    "17. 简述Gradient Descent的过程，以 $y = -10 * x^2 + 3x + 4 $ 为例，从一个任一点 $ x = 10 $ 开始，如果根据 Gradient Descent 找到最值。"
   ]
  },
  {
   "cell_type": "markdown",
   "metadata": {},
   "source": [
    "    Ans:一维情况梯度为导数y'=-20x+3，设定alpha为0.01，\n",
    "        x_1 = x - alpha*y'(x) = 10 - 0.01*(-197) = 11.97\n",
    "        发现新的x递归下去会不断增大，y不断减小\n",
    "        这个二次函数y只有最大值没有最小值，不为凸函数。"
   ]
  },
  {
   "cell_type": "markdown",
   "metadata": {},
   "source": [
    "18. 一般在机器学习数量时，会做一个预处理（Normalization）， 简述 Normalization 的过程，以及数据经过 Normalization之后的平均值和标准差的情况。"
   ]
  },
  {
   "cell_type": "markdown",
   "metadata": {},
   "source": [
    "    Ans:根据输入数据集的大小，对某些过大或过小的某维度的数据进行标度归一化，使其与其他维度数据的大小归一，从而使各个维度属性对于模型的影响相当。\n",
    "    Normalization之后平均值与标准差均按照归一化的标度同等变化，"
   ]
  },
  {
   "cell_type": "markdown",
   "metadata": {},
   "source": [
    "19. Logstic Regression 的 Logstic 是什么曲线，被用在什么地方？ "
   ]
  },
  {
   "cell_type": "markdown",
   "metadata": {},
   "source": [
    "    Ans:逻辑回归中的Logsitic是一个Sigmoid函数，本质是一种极大似然估计。\n",
    "    常被应用生物学的在物种丰度的估计中。例如人口预测。"
   ]
  },
  {
   "cell_type": "markdown",
   "metadata": {},
   "source": [
    "20. Logstic Regression 的 Loss 函数 Cross Entropy 是怎么样的形式？ 有什么意义？ "
   ]
  },
  {
   "cell_type": "markdown",
   "metadata": {},
   "source": [
    "Ans:\n",
    "    $H(p)=-\\sum_{i=1}^n p(x_i)\\log p(x_i)$\n",
    "    \n",
    "    根据香农信息论，一段信息越难预测，其提供的信息越多，交叉熵即是对于两个信息分布的期望。交叉熵越低，这个策略就越好。"
   ]
  },
  {
   "cell_type": "markdown",
   "metadata": {},
   "source": [
    "## 问题实战"
   ]
  },
  {
   "cell_type": "markdown",
   "metadata": {},
   "source": [
    "问题描述： 在新闻出版业中一个常常的问题就是新闻版权抄袭，所以我们现在为了避免这个事情，需要建立一个模型，判断这个文章是不是由某个新闻出版单位出版的。 在我们这个问题里，我们需要建立一个模型，该模型接受一个作为文本的输入，然后判断该文本是不是由“新华社”发布的。 "
   ]
  },
  {
   "cell_type": "markdown",
   "metadata": {},
   "source": [
    "Enviroment: \n",
    "\n",
    "+ Python 3.6\n",
    "+ numpy \n",
    "+ scikit learning"
   ]
  },
  {
   "cell_type": "markdown",
   "metadata": {},
   "source": [
    "**请在 pycharm 中运行程序，该处只作为关键信息的记录。 **"
   ]
  },
  {
   "cell_type": "markdown",
   "metadata": {},
   "source": [
    "1. 问什么此问题应该用机器学习方法？ "
   ]
  },
  {
   "cell_type": "markdown",
   "metadata": {},
   "source": [
    "Ans：二分类问题应该使用逻辑回归方法"
   ]
  },
  {
   "cell_type": "markdown",
   "metadata": {},
   "source": [
    "2. 问什么要对文本进行向量化？ 如何进行文本向量化表示？ （请使用tfidf 或者词向量）"
   ]
  },
  {
   "cell_type": "markdown",
   "metadata": {},
   "source": [
    "Ans:文本自身并不是一个直接数据量化的选项，需要向量化以后在进行函数分类计算。"
   ]
  },
  {
   "cell_type": "markdown",
   "metadata": {},
   "source": [
    "hint: 如果你使用 tfidf，则需要 scikit learning 如果你需要词向量，则需要 gensim"
   ]
  },
  {
   "cell_type": "markdown",
   "metadata": {},
   "source": [
    "3. 请对数据进行Preprocessing, Normalization 操作\n",
    "（你需要在 Preprocssing 的时候，把文章开头的“新华社”3 个字去掉。如果不去掉，会出现什么问题？）\n",
    "\n",
    "\n",
    "    ans:不去掉就可以简单用开头新华社分类而不是用文本特征分类。"
   ]
  },
  {
   "cell_type": "markdown",
   "metadata": {},
   "source": [
    "4. 请确定模型的 Baseline 以及确定评测指标（Evaluation）."
   ]
  },
  {
   "cell_type": "markdown",
   "metadata": {},
   "source": [
    "5. 尝试不同的模型、不同的参数，观察结果变化。 "
   ]
  },
  {
   "cell_type": "markdown",
   "metadata": {},
   "source": [
    "6. 依据模型的表现，进行参数调节。 "
   ]
  },
  {
   "cell_type": "markdown",
   "metadata": {},
   "source": []
  },
  {
   "cell_type": "code",
   "execution_count": null,
   "metadata": {},
   "outputs": [],
   "source": []
  }
 ],
 "metadata": {
  "kernelspec": {
   "display_name": "Python 3",
   "language": "python",
   "name": "python3"
  },
  "language_info": {
   "codemirror_mode": {
    "name": "ipython",
    "version": 3
   },
   "file_extension": ".py",
   "mimetype": "text/x-python",
   "name": "python",
   "nbconvert_exporter": "python",
   "pygments_lexer": "ipython3",
   "version": "3.6.8"
  }
 },
 "nbformat": 4,
 "nbformat_minor": 2
}
