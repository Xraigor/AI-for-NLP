{
 "cells": [
  {
   "cell_type": "markdown",
   "metadata": {},
   "source": [
    "## Review\n",
    "    \n",
    "    ·In Last lesson:\n",
    "        ·1.What's the machine learning?\n",
    "        ·2.What's the model?\n",
    "        ·3.What's the overfitting and underfitting, why?\n",
    "        ·4.What's the classification and regression?\n",
    "        ·5.What's the categorical and numerical?\n",
    "        ·6.What's the outliner?"
   ]
  },
  {
   "cell_type": "markdown",
   "metadata": {},
   "source": [
    "#### Sample in lecture2"
   ]
  },
  {
   "cell_type": "markdown",
   "metadata": {},
   "source": [
    "#### 交叉熵"
   ]
  },
  {
   "cell_type": "markdown",
   "metadata": {},
   "source": [
    "#### Softmax 高维logistic"
   ]
  },
  {
   "cell_type": "markdown",
   "metadata": {},
   "source": [
    "#### KNN K-Nearest-Neighbors\n",
    "    ·If we want write a program solve it, it's simple.\n",
    "    ·1-nearest neighbor classifier / regression\n",
    "    ·Weighted nearest neighbor classifier / regression\n",
    "    ·Maybe all the machine learning problem could use this method\n",
    "        ·Dimension reduction\n",
    "            ·With the dimension increase, we need much more data to fit.\n",
    "            ·Euclidean distance is unhelpful in high dimensions because all vectors are almost equidistant to the search query vector.(Image a circle)\n",
    "        ·Outlinear\n",
    "        ·Memory Consuming\n",
    "        ·Timing Cusuming in high dimension"
   ]
  },
  {
   "cell_type": "markdown",
   "metadata": {},
   "source": [
    "#### Support Vector Machine（支撑向量机）\n",
    "    Kernel Function（核函数）\n",
    "    不需要迭代和梯度下降"
   ]
  },
  {
   "cell_type": "code",
   "execution_count": null,
   "metadata": {},
   "outputs": [],
   "source": []
  }
 ],
 "metadata": {
  "kernelspec": {
   "display_name": "Python 3",
   "language": "python",
   "name": "python3"
  },
  "language_info": {
   "codemirror_mode": {
    "name": "ipython",
    "version": 3
   },
   "file_extension": ".py",
   "mimetype": "text/x-python",
   "name": "python",
   "nbconvert_exporter": "python",
   "pygments_lexer": "ipython3",
   "version": "3.6.8"
  }
 },
 "nbformat": 4,
 "nbformat_minor": 2
}
