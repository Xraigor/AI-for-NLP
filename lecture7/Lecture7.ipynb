{
 "cells": [
  {
   "cell_type": "markdown",
   "metadata": {},
   "source": [
    "## 句法分析\n",
    "    1.无法：观点在前，xxx说。准确率低。 可以加入pattern\n",
    "    2.指称代词：(1)你我他如何找到对应的人名；(2)句子嵌套句子；(3)如何提取主要观点。\n",
    "    代词指代不仅是语法问题，也是逻辑问题，并没有很好的解决办法。\n",
    "    co-reference, https://cs.stanford.edu/~danqi/ 的文章\n",
    "    例句：1.用针扎了纸一下，它就有个洞了。\n",
    "        2.市政府的官员拒绝了游行人员的要求，因为他们引起了骚乱。\n",
    "        3.市政府的关于同意了游行人员的要求，因为他们担心引起更大问题\n",
    "    3.判断言论结束只会用句号(其实已经可以做的还行),SIF不会做(高级方法)。"
   ]
  },
  {
   "cell_type": "markdown",
   "metadata": {},
   "source": [
    "## 机器学习\n",
    "    Data driven(反垃圾邮件)\n",
    "    统计学习方法\n",
    "    深度学习：基于反向传播反馈的学习方法"
   ]
  },
  {
   "cell_type": "markdown",
   "metadata": {},
   "source": [
    "## Article：No silver bullet - Essence and Accident in Software Engineering\n",
    "    没有万能的解决方案，在软件工程中的本质与意外\n",
    "    学术圈想把所有的问题变成自己的领域可以解决的问题\n",
    "    做的厉害的老学术家，是各种领域的知识都有所了解而不是闷头在自己的领域里"
   ]
  },
  {
   "cell_type": "markdown",
   "metadata": {},
   "source": [
    "Feature ==> Model ==> Target"
   ]
  },
  {
   "cell_type": "markdown",
   "metadata": {},
   "source": [
    "# 建模方法\n",
    "### 主体特征(相关重要特征)提取\n",
    "### 次要因素忽略\n",
    "    dimension cursing（维度越高，就需要更多，多一个数量级的数据来进行拟合）\n",
    "    feature engineering特征工程\n",
    "    人工提取主要特征来减少计算量和数据需求量（人工降维，数据处理）\n",
    "    deep learning即用机器来进行降维和数据处理（自建卷积神经网络等）\n",
    "    因此需要庞大数据量来进行深度学习\n",
    "All models are wrong, but some are useful.\n",
    "所有的模型都有局限（忽略的因素），但是有些是有用的（主要特征明显的）"
   ]
  },
  {
   "cell_type": "markdown",
   "metadata": {},
   "source": [
    "## book1:简单csv统计 K-nearest neighbors"
   ]
  },
  {
   "cell_type": "markdown",
   "metadata": {},
   "source": [
    "#### 例子：阿里巴巴 统计外卖情况 k近邻算法 "
   ]
  },
  {
   "cell_type": "markdown",
   "metadata": {},
   "source": [
    "## book2:decision tree\n",
    "    决策树：（自己理解）对于分支加权重，可以优先考虑区分度大的特征，剪枝方法减少可选数量\n",
    "    老师：缩小查询范围，如何实现\"优先考虑区分度大的特征\"(下节课),二叉树哪里好(高级的算法并不一定好用),可以人工对分支进行特性化定义(加权重),决策过程清晰，占用内存少，principal factor（对于数据特征多的情况好用），简单查表在数据不多的情况下也好用。"
   ]
  },
  {
   "cell_type": "markdown",
   "metadata": {},
   "source": [
    "## book3:简单贝叶斯分类 Naïve Bayesian Classification"
   ]
  },
  {
   "cell_type": "markdown",
   "metadata": {},
   "source": [
    "## book4:Neutral Network\n",
    "    神经网路：activation激活单元 计算出来的数据产生进一步变化"
   ]
  },
  {
   "cell_type": "markdown",
   "metadata": {},
   "source": [
    "## WeChat\n",
    "    x_bar:(moment, advertise, personality, social, location) y_hat\n",
    "    人群分类打标签投放广告\n",
    "    小规模实验\n",
    "    同学：Marketing里有个STP model\n",
    "    demographic人口统计学"
   ]
  },
  {
   "cell_type": "markdown",
   "metadata": {},
   "source": [
    "## 车辆流量  教育统计学生学业预测 语音识别\n",
    "    拥有I|O定义的问题都可以编程ML问题\n",
    "    需要考虑输入数据如何找，输出数据如何定义，机器学习模型如何做，如何计算，为什么要这么做"
   ]
  },
  {
   "cell_type": "markdown",
   "metadata": {},
   "source": [
    "## Two type\n",
    "    1.classification 非监督学习，分簇\n",
    "    2.Regression 线性回归，数据变化趋势\n",
    "    如何衡量哪种模型的效果好：\n",
    "    对于2，可以简单看数据差异来看效果 precision， recall，accuracy\n",
    "    对于1，查全率"
   ]
  },
  {
   "cell_type": "markdown",
   "metadata": {},
   "source": [
    "## How to evaluate 做好评估机制就已经做好了一大半\n",
    "    ·Accuracy\n",
    "    ·Precision\n",
    "    ·Recall\n",
    "    ·AOC/AUC\n",
    "    ·F1_score, F2_score\n",
    "    ·MSE\n",
    "    ·Loss Function\n",
    "    \n",
    "    ·Generation"
   ]
  },
  {
   "cell_type": "markdown",
   "metadata": {},
   "source": [
    "## Overfitting & Underfitting\n",
    "    1.欠拟合 模型简单、数据太少\n",
    "    2.过拟合 (1)拟合了噪声和无代表性特征数据（数据样本过大，噪声影响过大）outline\n",
    "          (2)数据量过少 训练数据准确度高于真实数据\n",
    "          (3)模型过于复杂 不适用"
   ]
  },
  {
   "cell_type": "code",
   "execution_count": null,
   "metadata": {},
   "outputs": [],
   "source": []
  }
 ],
 "metadata": {
  "kernelspec": {
   "display_name": "Python 3",
   "language": "python",
   "name": "python3"
  },
  "language_info": {
   "codemirror_mode": {
    "name": "ipython",
    "version": 3
   },
   "file_extension": ".py",
   "mimetype": "text/x-python",
   "name": "python",
   "nbconvert_exporter": "python",
   "pygments_lexer": "ipython3",
   "version": "3.7.1"
  }
 },
 "nbformat": 4,
 "nbformat_minor": 2
}
