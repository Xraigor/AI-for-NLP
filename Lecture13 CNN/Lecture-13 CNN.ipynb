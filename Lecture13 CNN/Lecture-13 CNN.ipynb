{
 "cells": [
  {
   "cell_type": "markdown",
   "metadata": {},
   "source": [
    "## · Local Invariant ---- Convolutional Kernal(平移，空间，局部不变性）"
   ]
  },
  {
   "cell_type": "markdown",
   "metadata": {},
   "source": [
    "## · Parameters sharing权值共享\n",
    "    1.Reduce Parameters Number减少过拟合\n",
    "    2.为Local Invariant提供基础"
   ]
  },
  {
   "cell_type": "markdown",
   "metadata": {},
   "source": [
    "CNN Parameters\n",
    "\n",
    "    · window 卷积矩形的大小==窗口大小 可改变大小\n",
    "    · filter 卷积核==过滤器 多种kernel可选\n",
    "    · strides 步长==一次kernel计算到下一次kernel计算相隔的距离\n",
    "    · padding inputs与kernel尺寸不对应时，将卷积窗口向外扩增 可以使得一层卷积后inputs维度不变\n",
    "        ·Zero padding\n",
    "        ·valid padding = No padding\n",
    "    参数设置都是不断测试得来的"
   ]
  },
  {
   "cell_type": "markdown",
   "metadata": {},
   "source": [
    "    W2 = (W1-Fw+2P)/S + 1\n",
    "    H2 = (H1-Fh+2P)/S + 1"
   ]
  },
  {
   "cell_type": "markdown",
   "metadata": {},
   "source": [
    "## Pooling 池化层\n",
    "\n",
    "    Reduce the spatial size of parameters\n",
    "    Also control overfitting\n",
    "    \n",
    "    Max Pooling, Average Pooling"
   ]
  },
  {
   "cell_type": "markdown",
   "metadata": {},
   "source": [
    "    CNN需要增加参数kernel的计算\n",
    "    Pooling直接降维"
   ]
  },
  {
   "cell_type": "markdown",
   "metadata": {},
   "source": [
    "物品SIZE不同\n",
    "\n",
    "    · 不同sizeCNN\n",
    "    · 选不同size的filter"
   ]
  },
  {
   "cell_type": "markdown",
   "metadata": {},
   "source": [
    "Xavier Initialization初始化方法\n",
    "\n",
    "    · Start too small or too large\n",
    "    · https://keras.io/initializers"
   ]
  },
  {
   "cell_type": "markdown",
   "metadata": {},
   "source": [
    "Batch Normalization 每一层都需要normalization使信息保存得更好\n",
    "\n",
    "    · Batch Normalization allowss us to use much higher learning rates and be less careful about input\n",
    "    · cite: https://arxiv.org/pdf/1502.03167.pdf"
   ]
  },
  {
   "cell_type": "markdown",
   "metadata": {},
   "source": [
    "Dropout 防止overfitting，故意丢失某些信息(涂黑)"
   ]
  },
  {
   "cell_type": "markdown",
   "metadata": {},
   "source": [
    "## 深度学习与神经网络\n",
    "\n",
    "    深度学习关心：解决神经网络层数过多时\n",
    "    1.参数过多 pooling\n",
    "    2.初始化影响 initialization\n",
    "    3.特征丢失 Batch Normalization\n",
    "    4.过拟合 Dropout"
   ]
  },
  {
   "cell_type": "markdown",
   "metadata": {},
   "source": [
    "Fully Connected Layer 最早的wx+b网络为例\n",
    "\n",
    "    · full connections to all activations in the previous layer"
   ]
  },
  {
   "cell_type": "markdown",
   "metadata": {},
   "source": [
    "RBF(Radial Basis Function)径向基函数 高斯核函数"
   ]
  },
  {
   "cell_type": "markdown",
   "metadata": {},
   "source": [
    "TextCNN"
   ]
  },
  {
   "cell_type": "markdown",
   "metadata": {},
   "source": [
    "CNN more\n",
    "\n",
    "    1. CNN Visualization\n",
    "    2. Text CNN Paper Reading"
   ]
  },
  {
   "cell_type": "markdown",
   "metadata": {},
   "source": [
    "## Transfer learning\n",
    "\n",
    "    inputs训练的结果会迁移到新数据集上\n",
    "    用别人训练过的model训练自己的数据\n",
    "    节省训练的数据集数量\n",
    "    只做分类的函数的改变\n",
    "    NLP上表现不好，但现在也在尝试做了"
   ]
  },
  {
   "cell_type": "markdown",
   "metadata": {},
   "source": [
    "DeepDreaming tensorflow\n",
    "    \n",
    "    训练动物的模型可以把风景分辨成动物\n",
    "    训练植物的模型可以把风景分辨成植物"
   ]
  },
  {
   "cell_type": "code",
   "execution_count": null,
   "metadata": {},
   "outputs": [],
   "source": []
  }
 ],
 "metadata": {
  "kernelspec": {
   "display_name": "Python 3",
   "language": "python",
   "name": "python3"
  },
  "language_info": {
   "codemirror_mode": {
    "name": "ipython",
    "version": 3
   },
   "file_extension": ".py",
   "mimetype": "text/x-python",
   "name": "python",
   "nbconvert_exporter": "python",
   "pygments_lexer": "ipython3",
   "version": "3.6.8"
  }
 },
 "nbformat": 4,
 "nbformat_minor": 2
}
